{
 "cells": [
  {
   "cell_type": "code",
   "execution_count": 1,
   "id": "f6e09818-1843-4e32-bd9d-da8102afa899",
   "metadata": {},
   "outputs": [],
   "source": [
    "import pandas as pd\n",
    "import numpy as np\n",
    "import matplotlib.pyplot as plt\n",
    "import seaborn as sns\n",
    "%matplotlib inline\n",
    "import warnings\n",
    "warnings.filterwarnings('ignore')"
   ]
  },
  {
   "cell_type": "code",
   "execution_count": 8,
   "id": "4dd3205b-a1d3-4836-acc3-8c7a718e8530",
   "metadata": {},
   "outputs": [],
   "source": [
    "data = pd.read_excel('/Users/apple/Downloads/iris.xls')"
   ]
  },
  {
   "cell_type": "code",
   "execution_count": 9,
   "id": "ffb0a108-fc78-4c2c-9222-109248d92fdb",
   "metadata": {},
   "outputs": [
    {
     "data": {
      "text/html": [
       "<div>\n",
       "<style scoped>\n",
       "    .dataframe tbody tr th:only-of-type {\n",
       "        vertical-align: middle;\n",
       "    }\n",
       "\n",
       "    .dataframe tbody tr th {\n",
       "        vertical-align: top;\n",
       "    }\n",
       "\n",
       "    .dataframe thead th {\n",
       "        text-align: right;\n",
       "    }\n",
       "</style>\n",
       "<table border=\"1\" class=\"dataframe\">\n",
       "  <thead>\n",
       "    <tr style=\"text-align: right;\">\n",
       "      <th></th>\n",
       "      <th>SL</th>\n",
       "      <th>SW</th>\n",
       "      <th>PL</th>\n",
       "      <th>PW</th>\n",
       "      <th>Classification</th>\n",
       "    </tr>\n",
       "  </thead>\n",
       "  <tbody>\n",
       "    <tr>\n",
       "      <th>0</th>\n",
       "      <td>5.1</td>\n",
       "      <td>3.5</td>\n",
       "      <td>1.4</td>\n",
       "      <td>0.2</td>\n",
       "      <td>Iris-setosa</td>\n",
       "    </tr>\n",
       "    <tr>\n",
       "      <th>1</th>\n",
       "      <td>4.9</td>\n",
       "      <td>3.0</td>\n",
       "      <td>1.4</td>\n",
       "      <td>0.2</td>\n",
       "      <td>Iris-setosa</td>\n",
       "    </tr>\n",
       "    <tr>\n",
       "      <th>2</th>\n",
       "      <td>NaN</td>\n",
       "      <td>3.2</td>\n",
       "      <td>1.3</td>\n",
       "      <td>0.2</td>\n",
       "      <td>Iris-setosa</td>\n",
       "    </tr>\n",
       "    <tr>\n",
       "      <th>3</th>\n",
       "      <td>4.6</td>\n",
       "      <td>3.1</td>\n",
       "      <td>1.5</td>\n",
       "      <td>0.2</td>\n",
       "      <td>Iris-setosa</td>\n",
       "    </tr>\n",
       "    <tr>\n",
       "      <th>4</th>\n",
       "      <td>5.0</td>\n",
       "      <td>3.6</td>\n",
       "      <td>1.4</td>\n",
       "      <td>0.2</td>\n",
       "      <td>Iris-setosa</td>\n",
       "    </tr>\n",
       "  </tbody>\n",
       "</table>\n",
       "</div>"
      ],
      "text/plain": [
       "    SL   SW   PL   PW Classification\n",
       "0  5.1  3.5  1.4  0.2    Iris-setosa\n",
       "1  4.9  3.0  1.4  0.2    Iris-setosa\n",
       "2  NaN  3.2  1.3  0.2    Iris-setosa\n",
       "3  4.6  3.1  1.5  0.2    Iris-setosa\n",
       "4  5.0  3.6  1.4  0.2    Iris-setosa"
      ]
     },
     "execution_count": 9,
     "metadata": {},
     "output_type": "execute_result"
    }
   ],
   "source": [
    "data.head()"
   ]
  },
  {
   "cell_type": "code",
   "execution_count": 10,
   "id": "d12666eb-52de-4a2e-b151-ac27d5ec6730",
   "metadata": {},
   "outputs": [
    {
     "data": {
      "text/plain": [
       "Index(['SL', 'SW', 'PL', 'PW', 'Classification'], dtype='object')"
      ]
     },
     "execution_count": 10,
     "metadata": {},
     "output_type": "execute_result"
    }
   ],
   "source": [
    "data.columns"
   ]
  },
  {
   "cell_type": "markdown",
   "id": "21dff0c7-ead9-413d-9f34-2456ac66d8c1",
   "metadata": {},
   "source": [
    "## Filling null values."
   ]
  },
  {
   "cell_type": "code",
   "execution_count": 11,
   "id": "5909527a-67d0-4f0e-8822-81f06331f5f9",
   "metadata": {},
   "outputs": [
    {
     "data": {
      "text/plain": [
       "SL                7\n",
       "SW                6\n",
       "PL                6\n",
       "PW                0\n",
       "Classification    0\n",
       "dtype: int64"
      ]
     },
     "execution_count": 11,
     "metadata": {},
     "output_type": "execute_result"
    }
   ],
   "source": [
    "data.isnull().sum()"
   ]
  },
  {
   "cell_type": "code",
   "execution_count": 12,
   "id": "8de05634-1617-48e4-b92e-d3b46f9c28d5",
   "metadata": {},
   "outputs": [
    {
     "data": {
      "image/png": "[encoded data removed]",
      "text/plain": [
       "<Figure size 640x480 with 4 Axes>"
      ]
     },
     "metadata": {},
     "output_type": "display_data"
    }
   ],
   "source": [
    "data.hist();"
   ]
  },
  {
   "cell_type": "code",
   "execution_count": 13,
   "id": "b456cec6-6226-4f24-9fc2-fb98b4bdfa9e",
   "metadata": {},
   "outputs": [
    {
     "name": "stdout",
     "output_type": "stream",
     "text": [
      "0.3068227108046868\n",
      "0.37781843718771746\n",
      "-0.2689053923783847\n",
      "-0.10499656214412734\n"
     ]
    }
   ],
   "source": [
    "print(data['SL'].skew())\n",
    "print(data['SW'].skew())\n",
    "print(data['PL'].skew())\n",
    "print(data['PW'].skew())"
   ]
  },
  {
   "cell_type": "markdown",
   "id": "a3557a01-cff9-414d-a057-19a5926dfefd",
   "metadata": {},
   "source": [
    "Not highly skewed, so let us use median to fill the Null values."
   ]
  },
  {
   "cell_type": "code",
   "execution_count": 14,
   "id": "3cf3b348-e7c4-4a11-b6c4-75803d261bc4",
   "metadata": {},
   "outputs": [],
   "source": [
    "for i in data[['SL', 'SW', 'PL', 'PW']]:\n",
    "    data[i] = data[i].fillna(data[i].median())"
   ]
  },
  {
   "cell_type": "code",
   "execution_count": 15,
   "id": "47c2c866-f9da-4496-a636-c4b101960280",
   "metadata": {},
   "outputs": [
    {
     "data": {
      "text/plain": [
       "0"
      ]
     },
     "execution_count": 15,
     "metadata": {},
     "output_type": "execute_result"
    }
   ],
   "source": [
    "data.isnull().sum().sum()"
   ]
  },
  {
   "cell_type": "markdown",
   "id": "ec80304c-9f82-4764-9eaf-91638c992d80",
   "metadata": {},
   "source": [
    "## Feature Scaling"
   ]
  },
  {
   "cell_type": "code",
   "execution_count": 16,
   "id": "e118ffa2-5cab-4366-8bfc-ed77de8b2e1f",
   "metadata": {},
   "outputs": [
    {
     "data": {
      "text/html": [
       "<div>\n",
       "<style scoped>\n",
       "    .dataframe tbody tr th:only-of-type {\n",
       "        vertical-align: middle;\n",
       "    }\n",
       "\n",
       "    .dataframe tbody tr th {\n",
       "        vertical-align: top;\n",
       "    }\n",
       "\n",
       "    .dataframe thead th {\n",
       "        text-align: right;\n",
       "    }\n",
       "</style>\n",
       "<table border=\"1\" class=\"dataframe\">\n",
       "  <thead>\n",
       "    <tr style=\"text-align: right;\">\n",
       "      <th></th>\n",
       "      <th>SL</th>\n",
       "      <th>SW</th>\n",
       "      <th>PL</th>\n",
       "      <th>PW</th>\n",
       "      <th>Classification</th>\n",
       "    </tr>\n",
       "  </thead>\n",
       "  <tbody>\n",
       "    <tr>\n",
       "      <th>0</th>\n",
       "      <td>5.1</td>\n",
       "      <td>3.5</td>\n",
       "      <td>1.4</td>\n",
       "      <td>0.2</td>\n",
       "      <td>Iris-setosa</td>\n",
       "    </tr>\n",
       "    <tr>\n",
       "      <th>1</th>\n",
       "      <td>4.9</td>\n",
       "      <td>3.0</td>\n",
       "      <td>1.4</td>\n",
       "      <td>0.2</td>\n",
       "      <td>Iris-setosa</td>\n",
       "    </tr>\n",
       "    <tr>\n",
       "      <th>2</th>\n",
       "      <td>5.8</td>\n",
       "      <td>3.2</td>\n",
       "      <td>1.3</td>\n",
       "      <td>0.2</td>\n",
       "      <td>Iris-setosa</td>\n",
       "    </tr>\n",
       "    <tr>\n",
       "      <th>3</th>\n",
       "      <td>4.6</td>\n",
       "      <td>3.1</td>\n",
       "      <td>1.5</td>\n",
       "      <td>0.2</td>\n",
       "      <td>Iris-setosa</td>\n",
       "    </tr>\n",
       "    <tr>\n",
       "      <th>4</th>\n",
       "      <td>5.0</td>\n",
       "      <td>3.6</td>\n",
       "      <td>1.4</td>\n",
       "      <td>0.2</td>\n",
       "      <td>Iris-setosa</td>\n",
       "    </tr>\n",
       "  </tbody>\n",
       "</table>\n",
       "</div>"
      ],
      "text/plain": [
       "    SL   SW   PL   PW Classification\n",
       "0  5.1  3.5  1.4  0.2    Iris-setosa\n",
       "1  4.9  3.0  1.4  0.2    Iris-setosa\n",
       "2  5.8  3.2  1.3  0.2    Iris-setosa\n",
       "3  4.6  3.1  1.5  0.2    Iris-setosa\n",
       "4  5.0  3.6  1.4  0.2    Iris-setosa"
      ]
     },
     "execution_count": 16,
     "metadata": {},
     "output_type": "execute_result"
    }
   ],
   "source": [
    "data.head()"
   ]
  },
  {
   "cell_type": "code",
   "execution_count": 17,
   "id": "bd549a45-aba6-40f5-9f56-442da95ef1f2",
   "metadata": {},
   "outputs": [
    {
     "data": {
      "text/plain": [
       "Index(['SL', 'SW', 'PL', 'PW', 'Classification'], dtype='object')"
      ]
     },
     "execution_count": 17,
     "metadata": {},
     "output_type": "execute_result"
    }
   ],
   "source": [
    "data.columns"
   ]
  },
  {
   "cell_type": "code",
   "execution_count": 20,
   "id": "c4b0a87a-40ff-41fb-a00e-6f2e3a3ab603",
   "metadata": {},
   "outputs": [
    {
     "data": {
      "text/html": [
       "<div>\n",
       "<style scoped>\n",
       "    .dataframe tbody tr th:only-of-type {\n",
       "        vertical-align: middle;\n",
       "    }\n",
       "\n",
       "    .dataframe tbody tr th {\n",
       "        vertical-align: top;\n",
       "    }\n",
       "\n",
       "    .dataframe thead th {\n",
       "        text-align: right;\n",
       "    }\n",
       "</style>\n",
       "<table border=\"1\" class=\"dataframe\">\n",
       "  <thead>\n",
       "    <tr style=\"text-align: right;\">\n",
       "      <th></th>\n",
       "      <th>SL</th>\n",
       "      <th>SW</th>\n",
       "      <th>PL</th>\n",
       "      <th>PW</th>\n",
       "    </tr>\n",
       "  </thead>\n",
       "  <tbody>\n",
       "    <tr>\n",
       "      <th>0</th>\n",
       "      <td>5.1</td>\n",
       "      <td>3.5</td>\n",
       "      <td>1.4</td>\n",
       "      <td>0.2</td>\n",
       "    </tr>\n",
       "    <tr>\n",
       "      <th>1</th>\n",
       "      <td>4.9</td>\n",
       "      <td>3.0</td>\n",
       "      <td>1.4</td>\n",
       "      <td>0.2</td>\n",
       "    </tr>\n",
       "    <tr>\n",
       "      <th>2</th>\n",
       "      <td>5.8</td>\n",
       "      <td>3.2</td>\n",
       "      <td>1.3</td>\n",
       "      <td>0.2</td>\n",
       "    </tr>\n",
       "  </tbody>\n",
       "</table>\n",
       "</div>"
      ],
      "text/plain": [
       "    SL   SW   PL   PW\n",
       "0  5.1  3.5  1.4  0.2\n",
       "1  4.9  3.0  1.4  0.2\n",
       "2  5.8  3.2  1.3  0.2"
      ]
     },
     "execution_count": 20,
     "metadata": {},
     "output_type": "execute_result"
    }
   ],
   "source": [
    "to_scale = data.drop('Classification', axis = 1)\n",
    "to_scale.head(3)"
   ]
  },
  {
   "cell_type": "code",
   "execution_count": 19,
   "id": "19588f98-14ec-4076-b23a-1b6c1e3dbd6b",
   "metadata": {},
   "outputs": [],
   "source": [
    "from sklearn.preprocessing import StandardScaler\n",
    "to_scale = StandardScaler().fit_transform(to_scale)"
   ]
  },
  {
   "cell_type": "code",
   "execution_count": 21,
   "id": "d808cbaf-5d90-45ff-bcb1-9b4600218273",
   "metadata": {},
   "outputs": [
    {
     "data": {
      "text/html": [
       "<div>\n",
       "<style scoped>\n",
       "    .dataframe tbody tr th:only-of-type {\n",
       "        vertical-align: middle;\n",
       "    }\n",
       "\n",
       "    .dataframe tbody tr th {\n",
       "        vertical-align: top;\n",
       "    }\n",
       "\n",
       "    .dataframe thead th {\n",
       "        text-align: right;\n",
       "    }\n",
       "</style>\n",
       "<table border=\"1\" class=\"dataframe\">\n",
       "  <thead>\n",
       "    <tr style=\"text-align: right;\">\n",
       "      <th></th>\n",
       "      <th>SL</th>\n",
       "      <th>SW</th>\n",
       "      <th>PL</th>\n",
       "      <th>PW</th>\n",
       "    </tr>\n",
       "  </thead>\n",
       "  <tbody>\n",
       "    <tr>\n",
       "      <th>0</th>\n",
       "      <td>5.1</td>\n",
       "      <td>3.5</td>\n",
       "      <td>1.4</td>\n",
       "      <td>0.2</td>\n",
       "    </tr>\n",
       "    <tr>\n",
       "      <th>1</th>\n",
       "      <td>4.9</td>\n",
       "      <td>3.0</td>\n",
       "      <td>1.4</td>\n",
       "      <td>0.2</td>\n",
       "    </tr>\n",
       "    <tr>\n",
       "      <th>2</th>\n",
       "      <td>5.8</td>\n",
       "      <td>3.2</td>\n",
       "      <td>1.3</td>\n",
       "      <td>0.2</td>\n",
       "    </tr>\n",
       "  </tbody>\n",
       "</table>\n",
       "</div>"
      ],
      "text/plain": [
       "    SL   SW   PL   PW\n",
       "0  5.1  3.5  1.4  0.2\n",
       "1  4.9  3.0  1.4  0.2\n",
       "2  5.8  3.2  1.3  0.2"
      ]
     },
     "execution_count": 21,
     "metadata": {},
     "output_type": "execute_result"
    }
   ],
   "source": [
    "to_scale = pd.DataFrame(to_scale)\n",
    "to_scale.head(3)"
   ]
  },
  {
   "cell_type": "code",
   "execution_count": 22,
   "id": "8ffa3499-9fcc-4a1e-b841-fe50139f204a",
   "metadata": {},
   "outputs": [],
   "source": [
    "data = data.drop(['SL', 'SW', 'PL', 'PW'], axis = 1)"
   ]
  },
  {
   "cell_type": "code",
   "execution_count": 23,
   "id": "f9dbe5ff-ca65-4fad-a509-6abb504c02dc",
   "metadata": {},
   "outputs": [],
   "source": [
    "data = pd.concat((to_scale, data), axis = 1)"
   ]
  },
  {
   "cell_type": "code",
   "execution_count": 24,
   "id": "4026ec8b-10fb-4d55-b3a1-2df144c40b14",
   "metadata": {},
   "outputs": [],
   "source": [
    "data.columns = ['SL', 'SW', 'PL', 'PW', 'Classification']"
   ]
  },
  {
   "cell_type": "code",
   "execution_count": 25,
   "id": "0ec6f489-f393-4d2b-8b52-f7e77b36df5d",
   "metadata": {},
   "outputs": [
    {
     "data": {
      "text/html": [
       "<div>\n",
       "<style scoped>\n",
       "    .dataframe tbody tr th:only-of-type {\n",
       "        vertical-align: middle;\n",
       "    }\n",
       "\n",
       "    .dataframe tbody tr th {\n",
       "        vertical-align: top;\n",
       "    }\n",
       "\n",
       "    .dataframe thead th {\n",
       "        text-align: right;\n",
       "    }\n",
       "</style>\n",
       "<table border=\"1\" class=\"dataframe\">\n",
       "  <thead>\n",
       "    <tr style=\"text-align: right;\">\n",
       "      <th></th>\n",
       "      <th>SL</th>\n",
       "      <th>SW</th>\n",
       "      <th>PL</th>\n",
       "      <th>PW</th>\n",
       "      <th>Classification</th>\n",
       "    </tr>\n",
       "  </thead>\n",
       "  <tbody>\n",
       "    <tr>\n",
       "      <th>0</th>\n",
       "      <td>5.1</td>\n",
       "      <td>3.5</td>\n",
       "      <td>1.4</td>\n",
       "      <td>0.2</td>\n",
       "      <td>Iris-setosa</td>\n",
       "    </tr>\n",
       "    <tr>\n",
       "      <th>1</th>\n",
       "      <td>4.9</td>\n",
       "      <td>3.0</td>\n",
       "      <td>1.4</td>\n",
       "      <td>0.2</td>\n",
       "      <td>Iris-setosa</td>\n",
       "    </tr>\n",
       "    <tr>\n",
       "      <th>2</th>\n",
       "      <td>5.8</td>\n",
       "      <td>3.2</td>\n",
       "      <td>1.3</td>\n",
       "      <td>0.2</td>\n",
       "      <td>Iris-setosa</td>\n",
       "    </tr>\n",
       "    <tr>\n",
       "      <th>3</th>\n",
       "      <td>4.6</td>\n",
       "      <td>3.1</td>\n",
       "      <td>1.5</td>\n",
       "      <td>0.2</td>\n",
       "      <td>Iris-setosa</td>\n",
       "    </tr>\n",
       "  </tbody>\n",
       "</table>\n",
       "</div>"
      ],
      "text/plain": [
       "    SL   SW   PL   PW Classification\n",
       "0  5.1  3.5  1.4  0.2    Iris-setosa\n",
       "1  4.9  3.0  1.4  0.2    Iris-setosa\n",
       "2  5.8  3.2  1.3  0.2    Iris-setosa\n",
       "3  4.6  3.1  1.5  0.2    Iris-setosa"
      ]
     },
     "execution_count": 25,
     "metadata": {},
     "output_type": "execute_result"
    }
   ],
   "source": [
    "data.head(4)"
   ]
  },
  {
   "cell_type": "markdown",
   "id": "3a75d626-465b-4b99-86ab-8b5fd502b58b",
   "metadata": {},
   "source": [
    "## Label Ecnoding"
   ]
  },
  {
   "cell_type": "code",
   "execution_count": 26,
   "id": "12fd1dd6-0c26-4fc0-9a5b-e6a3a897f890",
   "metadata": {},
   "outputs": [],
   "source": [
    "from sklearn.preprocessing import LabelEncoder \n",
    "data['Classification'] = LabelEncoder().fit_transform(data['Classification'])"
   ]
  },
  {
   "cell_type": "code",
   "execution_count": 27,
   "id": "41d4e7ea-1c5b-4348-b70f-4d857686b6ea",
   "metadata": {},
   "outputs": [
    {
     "data": {
      "text/html": [
       "<div>\n",
       "<style scoped>\n",
       "    .dataframe tbody tr th:only-of-type {\n",
       "        vertical-align: middle;\n",
       "    }\n",
       "\n",
       "    .dataframe tbody tr th {\n",
       "        vertical-align: top;\n",
       "    }\n",
       "\n",
       "    .dataframe thead th {\n",
       "        text-align: right;\n",
       "    }\n",
       "</style>\n",
       "<table border=\"1\" class=\"dataframe\">\n",
       "  <thead>\n",
       "    <tr style=\"text-align: right;\">\n",
       "      <th></th>\n",
       "      <th>SL</th>\n",
       "      <th>SW</th>\n",
       "      <th>PL</th>\n",
       "      <th>PW</th>\n",
       "      <th>Classification</th>\n",
       "    </tr>\n",
       "  </thead>\n",
       "  <tbody>\n",
       "    <tr>\n",
       "      <th>0</th>\n",
       "      <td>5.1</td>\n",
       "      <td>3.5</td>\n",
       "      <td>1.4</td>\n",
       "      <td>0.2</td>\n",
       "      <td>0</td>\n",
       "    </tr>\n",
       "    <tr>\n",
       "      <th>1</th>\n",
       "      <td>4.9</td>\n",
       "      <td>3.0</td>\n",
       "      <td>1.4</td>\n",
       "      <td>0.2</td>\n",
       "      <td>0</td>\n",
       "    </tr>\n",
       "    <tr>\n",
       "      <th>2</th>\n",
       "      <td>5.8</td>\n",
       "      <td>3.2</td>\n",
       "      <td>1.3</td>\n",
       "      <td>0.2</td>\n",
       "      <td>0</td>\n",
       "    </tr>\n",
       "  </tbody>\n",
       "</table>\n",
       "</div>"
      ],
      "text/plain": [
       "    SL   SW   PL   PW  Classification\n",
       "0  5.1  3.5  1.4  0.2               0\n",
       "1  4.9  3.0  1.4  0.2               0\n",
       "2  5.8  3.2  1.3  0.2               0"
      ]
     },
     "execution_count": 27,
     "metadata": {},
     "output_type": "execute_result"
    }
   ],
   "source": [
    "data.head(3)"
   ]
  },
  {
   "cell_type": "markdown",
   "id": "71c68193-e7e2-4eb0-ad38-2b261f17075b",
   "metadata": {},
   "source": [
    "## Logistic Regression"
   ]
  },
  {
   "cell_type": "code",
   "execution_count": 31,
   "id": "0cb2c233-ab1d-46ad-bfb1-fa5577b578d5",
   "metadata": {},
   "outputs": [],
   "source": [
    "inde = data.drop('Classification', axis = 1)\n",
    "dep = data['Classification']\n",
    "#Creating train and test data"
   ]
  },
  {
   "cell_type": "code",
   "execution_count": 34,
   "id": "1262862c-5749-4118-9925-1b1a883a32a5",
   "metadata": {},
   "outputs": [
    {
     "data": {
      "text/html": [
       "<div>\n",
       "<style scoped>\n",
       "    .dataframe tbody tr th:only-of-type {\n",
       "        vertical-align: middle;\n",
       "    }\n",
       "\n",
       "    .dataframe tbody tr th {\n",
       "        vertical-align: top;\n",
       "    }\n",
       "\n",
       "    .dataframe thead th {\n",
       "        text-align: right;\n",
       "    }\n",
       "</style>\n",
       "<table border=\"1\" class=\"dataframe\">\n",
       "  <thead>\n",
       "    <tr style=\"text-align: right;\">\n",
       "      <th></th>\n",
       "      <th>SL</th>\n",
       "      <th>SW</th>\n",
       "      <th>PL</th>\n",
       "      <th>PW</th>\n",
       "    </tr>\n",
       "  </thead>\n",
       "  <tbody>\n",
       "    <tr>\n",
       "      <th>0</th>\n",
       "      <td>5.1</td>\n",
       "      <td>3.5</td>\n",
       "      <td>1.4</td>\n",
       "      <td>0.2</td>\n",
       "    </tr>\n",
       "    <tr>\n",
       "      <th>1</th>\n",
       "      <td>4.9</td>\n",
       "      <td>3.0</td>\n",
       "      <td>1.4</td>\n",
       "      <td>0.2</td>\n",
       "    </tr>\n",
       "    <tr>\n",
       "      <th>2</th>\n",
       "      <td>5.8</td>\n",
       "      <td>3.2</td>\n",
       "      <td>1.3</td>\n",
       "      <td>0.2</td>\n",
       "    </tr>\n",
       "  </tbody>\n",
       "</table>\n",
       "</div>"
      ],
      "text/plain": [
       "    SL   SW   PL   PW\n",
       "0  5.1  3.5  1.4  0.2\n",
       "1  4.9  3.0  1.4  0.2\n",
       "2  5.8  3.2  1.3  0.2"
      ]
     },
     "execution_count": 34,
     "metadata": {},
     "output_type": "execute_result"
    }
   ],
   "source": [
    "inde.head(3) "
   ]
  },
  {
   "cell_type": "code",
   "execution_count": 33,
   "id": "fc4feeb2-46b4-430a-ad83-099571e742ad",
   "metadata": {},
   "outputs": [
    {
     "data": {
      "text/plain": [
       "0    0\n",
       "1    0\n",
       "2    0\n",
       "Name: Classification, dtype: int64"
      ]
     },
     "execution_count": 33,
     "metadata": {},
     "output_type": "execute_result"
    }
   ],
   "source": [
    "dep.head(3)"
   ]
  },
  {
   "cell_type": "markdown",
   "id": "711b1195-ef95-4dee-b0a3-ff485482216b",
   "metadata": {},
   "source": [
    "### Splitting dataframe  to training and testing data."
   ]
  },
  {
   "cell_type": "code",
   "execution_count": 35,
   "id": "313a92ae-4470-445a-94d8-ffbe2fbe6b3c",
   "metadata": {},
   "outputs": [],
   "source": [
    "from sklearn.model_selection import train_test_split\n",
    "inde_test, inde_train, dep_test, dep_train = train_test_split(inde, dep, test_size=0.25, random_state=46)"
   ]
  },
  {
   "cell_type": "code",
   "execution_count": 36,
   "id": "0f60b472-cd48-45b6-88d0-23ff240707f8",
   "metadata": {},
   "outputs": [],
   "source": [
    "from sklearn.linear_model import LogisticRegression\n",
    "logi_model = LogisticRegression(multi_class='multinomial', solver = 'lbfgs', max_iter=120).fit(inde_train, dep_train)"
   ]
  },
  {
   "cell_type": "code",
   "execution_count": 39,
   "id": "f209af1e-e688-4d46-a6b0-44e85888eb8b",
   "metadata": {},
   "outputs": [
    {
     "data": {
      "text/plain": [
       "array([2, 0, 1, 0, 1, 1, 1, 0, 1, 1, 1, 0, 0, 1, 0, 2, 1, 0, 0, 0, 0, 1,\n",
       "       2, 1, 2, 0, 2, 0, 1, 0, 0, 1, 1, 2, 2, 1, 2, 2, 2, 1, 0, 1, 2, 2,\n",
       "       0, 0, 1, 2, 1, 0, 0, 1, 0, 0, 2, 2, 1, 0, 0, 0, 0, 2, 1, 1, 2, 0,\n",
       "       1, 2, 2, 2, 2, 2, 2, 1, 1, 0, 1, 0, 2, 1, 1, 1, 1, 0, 1, 2, 2, 1,\n",
       "       2, 2, 0, 2, 2, 2, 2, 2, 0, 1, 1, 0, 0, 1, 0, 0, 1, 2, 0, 0, 2, 2,\n",
       "       0, 1])"
      ]
     },
     "execution_count": 39,
     "metadata": {},
     "output_type": "execute_result"
    }
   ],
   "source": [
    "logi_pred = logi_model.predict(inde_test)\n",
    "logi_pred"
   ]
  },
  {
   "cell_type": "code",
   "execution_count": 40,
   "id": "28be1ab8-27f7-4d91-a3bb-3d88cc05eb0c",
   "metadata": {},
   "outputs": [],
   "source": [
    "from sklearn import metrics\n",
    "from sklearn.metrics import accuracy_score, confusion_matrix"
   ]
  },
  {
   "cell_type": "code",
   "execution_count": 41,
   "id": "0b1605c7-4ec7-4723-8a2c-0c241741e75f",
   "metadata": {},
   "outputs": [],
   "source": [
    "cm = confusion_matrix(dep_test, logi_pred)"
   ]
  },
  {
   "cell_type": "code",
   "execution_count": 42,
   "id": "ccc61b88-d2af-4ec4-b648-7d5c928d2133",
   "metadata": {},
   "outputs": [
    {
     "data": {
      "image/png": "[encoded data removed]",
      "text/plain": [
       "<Figure size 150x150 with 1 Axes>"
      ]
     },
     "metadata": {},
     "output_type": "display_data"
    }
   ],
   "source": [
    "plt.figure(figsize=(1.5,1.5))\n",
    "sns.heatmap(cm, annot = True, cmap = 'coolwarm', cbar= None)\n",
    "plt.xlabel('Predicted values')\n",
    "plt.ylabel('Test values')\n",
    "plt.show()"
   ]
  },
  {
   "cell_type": "code",
   "execution_count": 43,
   "id": "46155c61-a12e-4c3b-9860-cd3b20e146a6",
   "metadata": {},
   "outputs": [
    {
     "name": "stdout",
     "output_type": "stream",
     "text": [
      "              precision    recall  f1-score   support\n",
      "\n",
      "           0       0.89      0.97      0.93        35\n",
      "           1       0.92      0.88      0.90        40\n",
      "           2       0.97      0.95      0.96        37\n",
      "\n",
      "    accuracy                           0.93       112\n",
      "   macro avg       0.93      0.93      0.93       112\n",
      "weighted avg       0.93      0.93      0.93       112\n",
      "\n"
     ]
    }
   ],
   "source": [
    "print(metrics.classification_report(dep_test, logi_pred))"
   ]
  },
  {
   "cell_type": "markdown",
   "id": "03d0f5d0-6201-46d8-aaef-2d7c665bacae",
   "metadata": {},
   "source": [
    "## Performing KNN"
   ]
  },
  {
   "cell_type": "code",
   "execution_count": 44,
   "id": "c40edcbc-dffc-469d-9a84-ef89c49113a2",
   "metadata": {},
   "outputs": [],
   "source": [
    "from sklearn import *\n",
    "from sklearn.neighbors import KNeighborsClassifier"
   ]
  },
  {
   "cell_type": "markdown",
   "id": "26d9b78d-aff8-4f41-b535-20888dbca2e6",
   "metadata": {},
   "source": [
    "#### Parameter tuning. "
   ]
  },
  {
   "cell_type": "code",
   "execution_count": 45,
   "id": "1fed98cf-ec2b-4278-9960-0bef8eef1992",
   "metadata": {},
   "outputs": [],
   "source": [
    "acc_metric = []\n",
    "neighbours = np.arange(3,15)"
   ]
  },
  {
   "cell_type": "code",
   "execution_count": 46,
   "id": "19b5ae27-92cf-4c96-b929-42b42939b6d2",
   "metadata": {},
   "outputs": [],
   "source": [
    "for i in neighbours:\n",
    "    classifier = KNeighborsClassifier(n_neighbors = i, metric='euclidean')\n",
    "    classifier.fit(inde_train, dep_train)\n",
    "    knn_pred = classifier.predict(inde_test)\n",
    "    knn_acc = accuracy_score(dep_test, knn_pred)\n",
    "    acc_metric.append(knn_acc)"
   ]
  },
  {
   "cell_type": "code",
   "execution_count": 47,
   "id": "06e59268-2f11-490f-b54c-7cdff272fb8a",
   "metadata": {},
   "outputs": [
    {
     "name": "stdout",
     "output_type": "stream",
     "text": [
      "[0.9285714285714286, 0.9285714285714286, 0.9464285714285714, 0.9375, 0.9375, 0.9196428571428571, 0.9375, 0.9285714285714286, 0.9285714285714286, 0.9107142857142857, 0.9196428571428571, 0.9196428571428571]\n"
     ]
    }
   ],
   "source": [
    "print(acc_metric)"
   ]
  },
  {
   "cell_type": "code",
   "execution_count": 48,
   "id": "b8b87301-d0bb-4a30-9930-afc559e1473a",
   "metadata": {},
   "outputs": [
    {
     "data": {
      "text/plain": [
       "[<matplotlib.lines.Line2D at 0x7f7b30b2a080>]"
      ]
     },
     "execution_count": 48,
     "metadata": {},
     "output_type": "execute_result"
    },
    {
     "data": {
      "image/png": "[encoded data removed]",
      "text/plain": [
       "<Figure size 640x480 with 1 Axes>"
      ]
     },
     "metadata": {},
     "output_type": "display_data"
    }
   ],
   "source": [
    "plt.plot(neighbours, acc_metric, '*--')"
   ]
  },
  {
   "cell_type": "markdown",
   "id": "3ecf5a4f-7513-4bb0-b833-e10276084869",
   "metadata": {},
   "source": [
    "#### 7 neighbors give the maximum accuracy."
   ]
  },
  {
   "cell_type": "code",
   "execution_count": 49,
   "id": "a4a5c8d0-2519-4a30-b71c-06b6c2bf723f",
   "metadata": {},
   "outputs": [],
   "source": [
    "classifier = KNeighborsClassifier(n_neighbors = 7, metric='euclidean')\n",
    "classifier.fit(inde_train, dep_train)\n",
    "knn_pred = classifier.predict(inde_test)"
   ]
  },
  {
   "cell_type": "code",
   "execution_count": 50,
   "id": "ce61bc8e-704f-41a3-9dc8-5664a653468d",
   "metadata": {},
   "outputs": [],
   "source": [
    "cm_kNN = confusion_matrix(dep_test,knn_pred)"
   ]
  },
  {
   "cell_type": "code",
   "execution_count": 51,
   "id": "986ced9b-5872-4a45-b5d3-887bc4cce306",
   "metadata": {},
   "outputs": [
    {
     "data": {
      "image/png": "[encoded data removed]",
      "text/plain": [
       "<Figure size 150x150 with 1 Axes>"
      ]
     },
     "metadata": {},
     "output_type": "display_data"
    }
   ],
   "source": [
    "plt.figure(figsize=(1.5,1.5))\n",
    "sns.heatmap(cm_kNN, annot = True, cmap = 'coolwarm', cbar= None)\n",
    "plt.xlabel('Predicted values')\n",
    "plt.ylabel('Test values')\n",
    "plt.show()"
   ]
  },
  {
   "cell_type": "code",
   "execution_count": 52,
   "id": "48a47c90-1465-4ee9-b6d4-c73b17dcf3c5",
   "metadata": {},
   "outputs": [
    {
     "name": "stdout",
     "output_type": "stream",
     "text": [
      "              precision    recall  f1-score   support\n",
      "\n",
      "           0       1.00      0.97      0.99        35\n",
      "           1       0.87      0.97      0.92        40\n",
      "           2       0.97      0.86      0.91        37\n",
      "\n",
      "    accuracy                           0.94       112\n",
      "   macro avg       0.95      0.94      0.94       112\n",
      "weighted avg       0.94      0.94      0.94       112\n",
      "\n"
     ]
    }
   ],
   "source": [
    "print(metrics.classification_report(dep_test, knn_pred))"
   ]
  },
  {
   "cell_type": "markdown",
   "id": "80cb9ad5-562b-48c7-a77e-9534311b5d2a",
   "metadata": {},
   "source": [
    "---"
   ]
  },
  {
   "cell_type": "markdown",
   "id": "a09219c7-c4ac-401f-aba6-efb508f5faf8",
   "metadata": {},
   "source": [
    "#### Comparing both models."
   ]
  },
  {
   "cell_type": "code",
   "execution_count": 53,
   "id": "02cd8a0e-6dcb-4d0c-bca7-21e74124a2c9",
   "metadata": {},
   "outputs": [
    {
     "data": {
      "image/png": "[encoded data removed]",
      "text/plain": [
       "<Figure size 150x150 with 1 Axes>"
      ]
     },
     "metadata": {},
     "output_type": "display_data"
    },
    {
     "data": {
      "image/png": "[encoded data removed]",
      "text/plain": [
       "<Figure size 150x150 with 1 Axes>"
      ]
     },
     "metadata": {},
     "output_type": "display_data"
    }
   ],
   "source": [
    "plt.figure(figsize=(1.5,1.5))\n",
    "sns.heatmap(cm, annot = True, cmap = 'coolwarm', cbar= None)\n",
    "plt.xlabel('Predicted values')\n",
    "plt.ylabel('Test values')\n",
    "plt.title('Logistic Regression')\n",
    "\n",
    "plt.figure(figsize=(1.5,1.5))\n",
    "sns.heatmap(cm_kNN, annot = True, cmap = 'coolwarm', cbar= None)\n",
    "plt.xlabel('Predicted values')\n",
    "plt.ylabel('Test values')\n",
    "plt.title('K-NN')\n",
    "plt.show()"
   ]
  },
  {
   "cell_type": "code",
   "execution_count": 54,
   "id": "af0cd057-82af-4630-bc75-43bea61e3a5c",
   "metadata": {},
   "outputs": [
    {
     "name": "stdout",
     "output_type": "stream",
     "text": [
      "              precision    recall  f1-score   support\n",
      "\n",
      "           0       0.89      0.97      0.93        35\n",
      "           1       0.92      0.88      0.90        40\n",
      "           2       0.97      0.95      0.96        37\n",
      "\n",
      "    accuracy                           0.93       112\n",
      "   macro avg       0.93      0.93      0.93       112\n",
      "weighted avg       0.93      0.93      0.93       112\n",
      "\n",
      "              precision    recall  f1-score   support\n",
      "\n",
      "           0       1.00      0.97      0.99        35\n",
      "           1       0.87      0.97      0.92        40\n",
      "           2       0.97      0.86      0.91        37\n",
      "\n",
      "    accuracy                           0.94       112\n",
      "   macro avg       0.95      0.94      0.94       112\n",
      "weighted avg       0.94      0.94      0.94       112\n",
      "\n"
     ]
    }
   ],
   "source": [
    "print(metrics.classification_report(dep_test, logi_pred))\n",
    "print(metrics.classification_report(dep_test, knn_pred))"
   ]
  },
  {
   "cell_type": "markdown",
   "id": "17c38ca5-ba0c-479c-bdf0-42c9ded2a72a",
   "metadata": {},
   "source": [
    "Result: The Logistic regression gives the best result'.The f1 score is better for the logistic regression. "
   ]
  },
  {
   "cell_type": "markdown",
   "id": "b0393de0-dc93-4dc2-bdf6-9499633c1954",
   "metadata": {},
   "source": [
    "---"
   ]
  }
 ],
 "metadata": {
  "kernelspec": {
   "display_name": "Python 3 (ipykernel)",
   "language": "python",
   "name": "python3"
  },
  "language_info": {
   "codemirror_mode": {
    "name": "ipython",
    "version": 3
   },
   "file_extension": ".py",
   "mimetype": "text/x-python",
   "name": "python",
   "nbconvert_exporter": "python",
   "pygments_lexer": "ipython3",
   "version": "3.10.9"
  }
 },
 "nbformat": 4,
 "nbformat_minor": 5
}
