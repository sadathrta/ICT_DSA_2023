{
 "cells": [
  {
   "cell_type": "code",
   "execution_count": 39,
   "id": "ca11239f",
   "metadata": {},
   "outputs": [],
   "source": [
    "import pandas as pd\n",
    "import numpy as np\n",
    "import matplotlib.pyplot as plt\n",
    "import seaborn as sns"
   ]
  },
  {
   "cell_type": "code",
   "execution_count": 3,
   "id": "6088a387",
   "metadata": {},
   "outputs": [],
   "source": [
    "spdata=pd.read_csv(r'D:\\ICT Python\\Data Set\\StudentsPerformance.csv')"
   ]
  },
  {
   "cell_type": "code",
   "execution_count": 4,
   "id": "864f74ba",
   "metadata": {},
   "outputs": [
    {
     "data": {
      "text/html": [
       "<div>\n",
       "<style scoped>\n",
       "    .dataframe tbody tr th:only-of-type {\n",
       "        vertical-align: middle;\n",
       "    }\n",
       "\n",
       "    .dataframe tbody tr th {\n",
       "        vertical-align: top;\n",
       "    }\n",
       "\n",
       "    .dataframe thead th {\n",
       "        text-align: right;\n",
       "    }\n",
       "</style>\n",
       "<table border=\"1\" class=\"dataframe\">\n",
       "  <thead>\n",
       "    <tr style=\"text-align: right;\">\n",
       "      <th></th>\n",
       "      <th>gender</th>\n",
       "      <th>race/ethnicity</th>\n",
       "      <th>parental level of education</th>\n",
       "      <th>lunch</th>\n",
       "      <th>test preparation course</th>\n",
       "      <th>math score</th>\n",
       "      <th>reading score</th>\n",
       "      <th>writing score</th>\n",
       "    </tr>\n",
       "  </thead>\n",
       "  <tbody>\n",
       "    <tr>\n",
       "      <th>0</th>\n",
       "      <td>female</td>\n",
       "      <td>group C</td>\n",
       "      <td>some high school</td>\n",
       "      <td>free/reduced</td>\n",
       "      <td>none</td>\n",
       "      <td>0</td>\n",
       "      <td>17</td>\n",
       "      <td>10</td>\n",
       "    </tr>\n",
       "    <tr>\n",
       "      <th>1</th>\n",
       "      <td>female</td>\n",
       "      <td>group B</td>\n",
       "      <td>high school</td>\n",
       "      <td>free/reduced</td>\n",
       "      <td>none</td>\n",
       "      <td>8</td>\n",
       "      <td>24</td>\n",
       "      <td>23</td>\n",
       "    </tr>\n",
       "    <tr>\n",
       "      <th>2</th>\n",
       "      <td>female</td>\n",
       "      <td>group B</td>\n",
       "      <td>some high school</td>\n",
       "      <td>free/reduced</td>\n",
       "      <td>none</td>\n",
       "      <td>18</td>\n",
       "      <td>32</td>\n",
       "      <td>28</td>\n",
       "    </tr>\n",
       "    <tr>\n",
       "      <th>3</th>\n",
       "      <td>female</td>\n",
       "      <td>group B</td>\n",
       "      <td>some college</td>\n",
       "      <td>standard</td>\n",
       "      <td>none</td>\n",
       "      <td>11</td>\n",
       "      <td>38</td>\n",
       "      <td>32</td>\n",
       "    </tr>\n",
       "    <tr>\n",
       "      <th>4</th>\n",
       "      <td>female</td>\n",
       "      <td>group C</td>\n",
       "      <td>some college</td>\n",
       "      <td>free/reduced</td>\n",
       "      <td>none</td>\n",
       "      <td>22</td>\n",
       "      <td>39</td>\n",
       "      <td>33</td>\n",
       "    </tr>\n",
       "  </tbody>\n",
       "</table>\n",
       "</div>"
      ],
      "text/plain": [
       "   gender race/ethnicity parental level of education         lunch  \\\n",
       "0  female        group C            some high school  free/reduced   \n",
       "1  female        group B                 high school  free/reduced   \n",
       "2  female        group B            some high school  free/reduced   \n",
       "3  female        group B                some college      standard   \n",
       "4  female        group C                some college  free/reduced   \n",
       "\n",
       "  test preparation course  math score  reading score  writing score  \n",
       "0                    none           0             17             10  \n",
       "1                    none           8             24             23  \n",
       "2                    none          18             32             28  \n",
       "3                    none          11             38             32  \n",
       "4                    none          22             39             33  "
      ]
     },
     "execution_count": 4,
     "metadata": {},
     "output_type": "execute_result"
    }
   ],
   "source": [
    "spdata.head()"
   ]
  },
  {
   "cell_type": "code",
   "execution_count": 5,
   "id": "5a0e8b9b",
   "metadata": {},
   "outputs": [
    {
     "name": "stdout",
     "output_type": "stream",
     "text": [
      "<class 'pandas.core.frame.DataFrame'>\n",
      "RangeIndex: 1000 entries, 0 to 999\n",
      "Data columns (total 8 columns):\n",
      " #   Column                       Non-Null Count  Dtype \n",
      "---  ------                       --------------  ----- \n",
      " 0   gender                       1000 non-null   object\n",
      " 1   race/ethnicity               1000 non-null   object\n",
      " 2   parental level of education  1000 non-null   object\n",
      " 3   lunch                        1000 non-null   object\n",
      " 4   test preparation course      1000 non-null   object\n",
      " 5   math score                   1000 non-null   int64 \n",
      " 6   reading score                1000 non-null   int64 \n",
      " 7   writing score                1000 non-null   int64 \n",
      "dtypes: int64(3), object(5)\n",
      "memory usage: 62.6+ KB\n"
     ]
    }
   ],
   "source": [
    "spdata.info()"
   ]
  },
  {
   "cell_type": "markdown",
   "id": "bd0254db",
   "metadata": {},
   "source": [
    "### 1. Find out how many males and females participated in the test."
   ]
  },
  {
   "cell_type": "code",
   "execution_count": 6,
   "id": "af115d1f",
   "metadata": {},
   "outputs": [
    {
     "data": {
      "text/plain": [
       "female    518\n",
       "male      482\n",
       "Name: gender, dtype: int64"
      ]
     },
     "execution_count": 6,
     "metadata": {},
     "output_type": "execute_result"
    }
   ],
   "source": [
    "spdata['gender'].value_counts()"
   ]
  },
  {
   "cell_type": "markdown",
   "id": "0441a0c7",
   "metadata": {},
   "source": [
    "### 2. What do you think about the students' parental level of education?"
   ]
  },
  {
   "cell_type": "code",
   "execution_count": 7,
   "id": "0aff9cf7",
   "metadata": {
    "scrolled": true
   },
   "outputs": [
    {
     "data": {
      "text/plain": [
       "some college          226\n",
       "associate's degree    222\n",
       "high school           196\n",
       "some high school      179\n",
       "bachelor's degree     118\n",
       "master's degree        59\n",
       "Name: parental level of education, dtype: int64"
      ]
     },
     "execution_count": 7,
     "metadata": {},
     "output_type": "execute_result"
    }
   ],
   "source": [
    "ple=spdata[\"parental level of education\"].value_counts()\n",
    "ple"
   ]
  },
  {
   "cell_type": "code",
   "execution_count": 41,
   "id": "2a1bbc34",
   "metadata": {},
   "outputs": [
    {
     "name": "stderr",
     "output_type": "stream",
     "text": [
      "C:\\Users\\Public\\Documents\\Wondershare\\CreatorTemp\\ipykernel_9804\\3319034734.py:3: UserWarning: Matplotlib is currently using module://matplotlib_inline.backend_inline, which is a non-GUI backend, so cannot show the figure.\n",
      "  ploe.show()\n"
     ]
    },
    {
     "data": {
      "image/png": "[encoded data removed]",
      "text/plain": [
       "<Figure size 1000x500 with 1 Axes>"
      ]
     },
     "metadata": {},
     "output_type": "display_data"
    }
   ],
   "source": [
    "ploe = plt.figure(figsize=(10,5))\n",
    "sns.countplot(x='parental level of education',data=spdata)\n",
    "ploe.show()"
   ]
  },
  {
   "cell_type": "markdown",
   "id": "b9da1463",
   "metadata": {},
   "source": [
    "### 3. Who scores the most on average for math, reading and writing based on\n",
    "### ● Gender  ● Test preparation course"
   ]
  },
  {
   "cell_type": "code",
   "execution_count": 13,
   "id": "75ea5525",
   "metadata": {},
   "outputs": [
    {
     "data": {
      "text/plain": [
       "66.001"
      ]
     },
     "execution_count": 13,
     "metadata": {},
     "output_type": "execute_result"
    }
   ],
   "source": [
    "math_avg=spdata[\"math score\"].mean()\n",
    "math_avg"
   ]
  },
  {
   "cell_type": "code",
   "execution_count": 14,
   "id": "d7886e71",
   "metadata": {},
   "outputs": [
    {
     "data": {
      "text/plain": [
       "69.195"
      ]
     },
     "execution_count": 14,
     "metadata": {},
     "output_type": "execute_result"
    }
   ],
   "source": [
    "read_avg=spdata[\"reading score\"].mean()\n",
    "read_avg"
   ]
  },
  {
   "cell_type": "code",
   "execution_count": 15,
   "id": "31ca3454",
   "metadata": {},
   "outputs": [
    {
     "data": {
      "text/plain": [
       "68.119"
      ]
     },
     "execution_count": 15,
     "metadata": {},
     "output_type": "execute_result"
    }
   ],
   "source": [
    "write_avg=spdata[\"writing score\"].mean()\n",
    "write_avg"
   ]
  },
  {
   "cell_type": "code",
   "execution_count": 20,
   "id": "f2a42da9",
   "metadata": {},
   "outputs": [
    {
     "data": {
      "text/plain": [
       "gender  test preparation course\n",
       "female  completed                  67.108696\n",
       "        none                       61.320359\n",
       "male    completed                  72.988506\n",
       "        none                       66.467532\n",
       "Name: math score, dtype: float64"
      ]
     },
     "execution_count": 20,
     "metadata": {},
     "output_type": "execute_result"
    }
   ],
   "source": [
    "spdata.groupby(['gender','test preparation course'])['math score'].mean()"
   ]
  },
  {
   "cell_type": "code",
   "execution_count": 21,
   "id": "69c9bfb7",
   "metadata": {},
   "outputs": [
    {
     "data": {
      "text/plain": [
       "gender  test preparation course\n",
       "female  completed                  77.375000\n",
       "        none                       69.955090\n",
       "male    completed                  70.793103\n",
       "        none                       62.581169\n",
       "Name: reading score, dtype: float64"
      ]
     },
     "execution_count": 21,
     "metadata": {},
     "output_type": "execute_result"
    }
   ],
   "source": [
    "spdata.groupby(['gender','test preparation course'])['reading score'].mean()"
   ]
  },
  {
   "cell_type": "code",
   "execution_count": 22,
   "id": "eb8a63d3",
   "metadata": {},
   "outputs": [
    {
     "data": {
      "text/plain": [
       "gender  test preparation course\n",
       "female  completed                  78.793478\n",
       "        none                       68.982036\n",
       "male    completed                  70.339080\n",
       "        none                       59.551948\n",
       "Name: writing score, dtype: float64"
      ]
     },
     "execution_count": 22,
     "metadata": {},
     "output_type": "execute_result"
    }
   ],
   "source": [
    "spdata.groupby(['gender','test preparation course'])['writing score'].mean()"
   ]
  },
  {
   "cell_type": "markdown",
   "id": "9f9724da",
   "metadata": {},
   "source": [
    "### 4. What do you think about the scoring variation for math, reading and writing based on\n",
    "### ● Gender ● Test preparation course"
   ]
  },
  {
   "cell_type": "code",
   "execution_count": 25,
   "id": "b9eedc84",
   "metadata": {},
   "outputs": [
    {
     "data": {
      "text/plain": [
       "242.4114104104103"
      ]
     },
     "execution_count": 25,
     "metadata": {},
     "output_type": "execute_result"
    }
   ],
   "source": [
    "math_var=spdata[\"math score\"].var()\n",
    "math_var"
   ]
  },
  {
   "cell_type": "code",
   "execution_count": 26,
   "id": "d26c478c",
   "metadata": {},
   "outputs": [
    {
     "data": {
      "text/plain": [
       "216.27925425425406"
      ]
     },
     "execution_count": 26,
     "metadata": {},
     "output_type": "execute_result"
    }
   ],
   "source": [
    "math_var=spdata[\"reading score\"].var()\n",
    "math_var"
   ]
  },
  {
   "cell_type": "code",
   "execution_count": 27,
   "id": "9a2433d1",
   "metadata": {},
   "outputs": [
    {
     "data": {
      "text/plain": [
       "231.8426816816816"
      ]
     },
     "execution_count": 27,
     "metadata": {},
     "output_type": "execute_result"
    }
   ],
   "source": [
    "math_var=spdata[\"writing score\"].var()\n",
    "math_var"
   ]
  },
  {
   "cell_type": "code",
   "execution_count": 29,
   "id": "c153262b",
   "metadata": {},
   "outputs": [
    {
     "data": {
      "text/plain": [
       "gender  test preparation course\n",
       "female  completed                  208.173913\n",
       "        none                       272.602767\n",
       "male    completed                  197.098133\n",
       "        none                       205.513600\n",
       "Name: math score, dtype: float64"
      ]
     },
     "execution_count": 29,
     "metadata": {},
     "output_type": "execute_result"
    }
   ],
   "source": [
    "spdata.groupby(['gender','test preparation course'])['math score'].var()"
   ]
  },
  {
   "cell_type": "code",
   "execution_count": 31,
   "id": "a0d69b5a",
   "metadata": {},
   "outputs": [
    {
     "data": {
      "text/plain": [
       "gender  test preparation course\n",
       "female  completed                  161.175546\n",
       "        none                       214.241220\n",
       "male    completed                  185.297987\n",
       "        none                       184.843553\n",
       "Name: reading score, dtype: float64"
      ]
     },
     "execution_count": 31,
     "metadata": {},
     "output_type": "execute_result"
    }
   ],
   "source": [
    "spdata.groupby(['gender','test preparation course'])['reading score'].var()\n"
   ]
  },
  {
   "cell_type": "code",
   "execution_count": 32,
   "id": "17a3034a",
   "metadata": {},
   "outputs": [
    {
     "data": {
      "text/plain": [
       "gender  test preparation course\n",
       "female  completed                  149.836897\n",
       "        none                       225.495172\n",
       "male    completed                  166.098233\n",
       "        none                       181.394687\n",
       "Name: writing score, dtype: float64"
      ]
     },
     "execution_count": 32,
     "metadata": {},
     "output_type": "execute_result"
    }
   ],
   "source": [
    "spdata.groupby(['gender','test preparation course'])['writing score'].var()"
   ]
  },
  {
   "cell_type": "markdown",
   "id": "0510baf0",
   "metadata": {},
   "source": [
    "### 5. bonus points to the top 25% of students based on their math score"
   ]
  },
  {
   "cell_type": "code",
   "execution_count": 44,
   "id": "52c1dcd6",
   "metadata": {},
   "outputs": [
    {
     "data": {
      "text/plain": [
       "65    36\n",
       "62    34\n",
       "59    32\n",
       "69    30\n",
       "74    28\n",
       "      ..\n",
       "11     1\n",
       "18     1\n",
       "27     1\n",
       "28     1\n",
       "0      1\n",
       "Name: math score, Length: 85, dtype: int64"
      ]
     },
     "execution_count": 44,
     "metadata": {},
     "output_type": "execute_result"
    }
   ],
   "source": [
    "ple=spdata[\"math score\"].value_counts()\n",
    "ple"
   ]
  },
  {
   "cell_type": "code",
   "execution_count": null,
   "id": "90f8ca6c",
   "metadata": {},
   "outputs": [],
   "source": []
  }
 ],
 "metadata": {
  "kernelspec": {
   "display_name": "Python 3 (ipykernel)",
   "language": "python",
   "name": "python3"
  },
  "language_info": {
   "codemirror_mode": {
    "name": "ipython",
    "version": 3
   },
   "file_extension": ".py",
   "mimetype": "text/x-python",
   "name": "python",
   "nbconvert_exporter": "python",
   "pygments_lexer": "ipython3",
   "version": "3.10.9"
  }
 },
 "nbformat": 4,
 "nbformat_minor": 5
}
